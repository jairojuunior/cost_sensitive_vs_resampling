{
 "cells": [
  {
   "cell_type": "markdown",
   "id": "93374c6a-1b9e-46c0-87da-f0b9b11bcd2e",
   "metadata": {},
   "source": [
    "# Metadata correction on some experiments"
   ]
  },
  {
   "cell_type": "code",
   "execution_count": 1,
   "id": "5296e529-9936-427c-bcac-e4c49bb1cf5e",
   "metadata": {},
   "outputs": [],
   "source": [
    "import pandas as pd\n",
    "import numpy as np\n",
    "import re\n",
    "from glob import glob"
   ]
  },
  {
   "cell_type": "code",
   "execution_count": 2,
   "id": "dda08bf2-a08d-4862-a619-2c23edc75b4a",
   "metadata": {},
   "outputs": [],
   "source": [
    "files_with_error = glob(\"../experiments_logs/synthetic_bayes*.csv\")"
   ]
  },
  {
   "cell_type": "code",
   "execution_count": 4,
   "id": "2ae1ac05-b822-44c2-ace0-f41f56539407",
   "metadata": {},
   "outputs": [],
   "source": [
    "regex_nums = re.compile(r\"\\d+\")"
   ]
  },
  {
   "cell_type": "code",
   "execution_count": 29,
   "id": "d157210d-4d36-472f-8eac-efa9b52dc62e",
   "metadata": {},
   "outputs": [],
   "source": [
    "for f in files_with_error:\n",
    "    dataset = pd.read_csv(f)\n",
    "    dataset_params = [int(x) for x in regex_nums.findall(f)]\n",
    "    dataset_metadata = {'N': dataset_params[0],\n",
    "                        'v': dataset_params[1],\n",
    "                        'l': dataset_params[2],\n",
    "                        'd': dataset_params[3],\n",
    "                        'r': dataset_params[4]/100,\n",
    "                        'e': dataset_params[5]/100}\n",
    "    dataset['metadata'] = str(dataset_metadata)\n",
    "    dataset.to_csv(f, index=False)"
   ]
  }
 ],
 "metadata": {
  "kernelspec": {
   "display_name": "Python 3",
   "language": "python",
   "name": "python3"
  },
  "language_info": {
   "codemirror_mode": {
    "name": "ipython",
    "version": 3
   },
   "file_extension": ".py",
   "mimetype": "text/x-python",
   "name": "python",
   "nbconvert_exporter": "python",
   "pygments_lexer": "ipython3",
   "version": "3.8.8"
  }
 },
 "nbformat": 4,
 "nbformat_minor": 5
}
